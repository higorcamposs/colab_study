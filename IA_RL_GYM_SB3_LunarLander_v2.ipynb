{
  "cells": [
    {
      "cell_type": "markdown",
      "metadata": {
        "id": "view-in-github",
        "colab_type": "text"
      },
      "source": [
        "<a href=\"https://colab.research.google.com/github/higorcamposs/ia_lunarlander/blob/main/IA_RL_GYM_SB3_LunarLander_v2.ipynb\" target=\"_parent\"><img src=\"https://colab.research.google.com/assets/colab-badge.svg\" alt=\"Open In Colab\"/></a>"
      ]
    },
    {
      "cell_type": "markdown",
      "metadata": {
        "id": "hyyN-2qyK_T2"
      },
      "source": [
        "# Stable Baselines3 - Training, Saving and Loading\n",
        "\n",
        "Github Repo: [https://github.com/DLR-RM/stable-baselines3](https://github.com/DLR-RM/stable-baselines3)\n",
        "\n",
        "\n",
        "[RL Baselines3 Zoo](https://github.com/DLR-RM/rl-baselines3-zoo) is a training framework for Reinforcement Learning (RL), using Stable Baselines3.\n",
        "\n",
        "It provides scripts for training, evaluating agents, tuning hyperparameters, plotting results and recording videos.\n",
        "\n",
        "Documentation is available online: [https://stable-baselines3.readthedocs.io/](https://stable-baselines3.readthedocs.io/)\n",
        "\n",
        "## Install Dependencies and Stable Baselines Using Pip\n",
        "\n",
        "\n",
        "```\n",
        "pip install stable-baselines3[extra]\n",
        "```"
      ]
    },
    {
      "cell_type": "code",
      "source": [
        "!pip install gymnasium"
      ],
      "metadata": {
        "id": "f6MW696s7DSj",
        "colab": {
          "base_uri": "https://localhost:8080/"
        },
        "outputId": "b35607a3-c138-4136-98fa-d915c6f2d711"
      },
      "execution_count": null,
      "outputs": [
        {
          "output_type": "stream",
          "name": "stdout",
          "text": [
            "Collecting gymnasium\n",
            "  Downloading gymnasium-0.29.1-py3-none-any.whl.metadata (10 kB)\n",
            "Requirement already satisfied: numpy>=1.21.0 in /usr/local/lib/python3.10/dist-packages (from gymnasium) (1.26.4)\n",
            "Requirement already satisfied: cloudpickle>=1.2.0 in /usr/local/lib/python3.10/dist-packages (from gymnasium) (2.2.1)\n",
            "Requirement already satisfied: typing-extensions>=4.3.0 in /usr/local/lib/python3.10/dist-packages (from gymnasium) (4.12.2)\n",
            "Collecting farama-notifications>=0.0.1 (from gymnasium)\n",
            "  Downloading Farama_Notifications-0.0.4-py3-none-any.whl.metadata (558 bytes)\n",
            "Downloading gymnasium-0.29.1-py3-none-any.whl (953 kB)\n",
            "\u001b[2K   \u001b[90m━━━━━━━━━━━━━━━━━━━━━━━━━━━━━━━━━━━━━━━━\u001b[0m \u001b[32m953.9/953.9 kB\u001b[0m \u001b[31m9.0 MB/s\u001b[0m eta \u001b[36m0:00:00\u001b[0m\n",
            "\u001b[?25hDownloading Farama_Notifications-0.0.4-py3-none-any.whl (2.5 kB)\n",
            "Installing collected packages: farama-notifications, gymnasium\n",
            "Successfully installed farama-notifications-0.0.4 gymnasium-0.29.1\n"
          ]
        }
      ]
    },
    {
      "cell_type": "code",
      "source": [
        "!apt-get update && apt-get install swig cmake"
      ],
      "metadata": {
        "id": "cYMThnHPBEUM",
        "colab": {
          "base_uri": "https://localhost:8080/"
        },
        "outputId": "8bf0a4a0-96b8-4918-f8e9-60e46ac4cc3d"
      },
      "execution_count": null,
      "outputs": [
        {
          "output_type": "stream",
          "name": "stdout",
          "text": [
            "\r0% [Working]\r            \rGet:1 https://cloud.r-project.org/bin/linux/ubuntu jammy-cran40/ InRelease [3,626 B]\n",
            "\r0% [Waiting for headers] [Connecting to security.ubuntu.com (185.125.190.81)] [1 InRelease 3,626 B/3\r0% [Waiting for headers] [Connecting to security.ubuntu.com (185.125.190.81)] [Connected to r2u.stat\r                                                                                                    \rGet:2 https://developer.download.nvidia.com/compute/cuda/repos/ubuntu2204/x86_64  InRelease [1,581 B]\n",
            "\r0% [Waiting for headers] [Waiting for headers] [Connected to r2u.stat.illinois.edu (192.17.190.167)]\r0% [Waiting for headers] [Waiting for headers] [Connected to r2u.stat.illinois.edu (192.17.190.167)]\r                                                                                                    \rHit:3 http://archive.ubuntu.com/ubuntu jammy InRelease\n",
            "Get:4 http://archive.ubuntu.com/ubuntu jammy-updates InRelease [128 kB]\n",
            "Get:5 http://security.ubuntu.com/ubuntu jammy-security InRelease [129 kB]\n",
            "Ign:6 https://r2u.stat.illinois.edu/ubuntu jammy InRelease\n",
            "Get:7 https://r2u.stat.illinois.edu/ubuntu jammy Release [5,713 B]\n",
            "Get:8 https://r2u.stat.illinois.edu/ubuntu jammy Release.gpg [793 B]\n",
            "Hit:9 http://archive.ubuntu.com/ubuntu jammy-backports InRelease\n",
            "Hit:10 https://ppa.launchpadcontent.net/deadsnakes/ppa/ubuntu jammy InRelease\n",
            "Get:11 https://developer.download.nvidia.com/compute/cuda/repos/ubuntu2204/x86_64  Packages [920 kB]\n",
            "Hit:12 https://ppa.launchpadcontent.net/graphics-drivers/ppa/ubuntu jammy InRelease\n",
            "Hit:13 https://ppa.launchpadcontent.net/ubuntugis/ppa/ubuntu jammy InRelease\n",
            "Get:14 https://r2u.stat.illinois.edu/ubuntu jammy/main all Packages [8,218 kB]\n",
            "Get:15 http://archive.ubuntu.com/ubuntu jammy-updates/multiverse amd64 Packages [51.8 kB]\n",
            "Get:16 http://archive.ubuntu.com/ubuntu jammy-updates/universe amd64 Packages [1,422 kB]\n",
            "Get:17 http://archive.ubuntu.com/ubuntu jammy-updates/main amd64 Packages [2,396 kB]\n",
            "Get:18 http://security.ubuntu.com/ubuntu jammy-security/universe amd64 Packages [1,132 kB]\n",
            "Get:19 http://security.ubuntu.com/ubuntu jammy-security/main amd64 Packages [2,119 kB]\n",
            "Fetched 16.5 MB in 6s (2,722 kB/s)\n",
            "Reading package lists... Done\n",
            "W: Skipping acquire of configured file 'main/source/Sources' as repository 'https://r2u.stat.illinois.edu/ubuntu jammy InRelease' does not seem to provide it (sources.list entry misspelt?)\n",
            "Reading package lists... Done\n",
            "Building dependency tree... Done\n",
            "Reading state information... Done\n",
            "cmake is already the newest version (3.22.1-1ubuntu1.22.04.2).\n",
            "Suggested packages:\n",
            "  swig-doc swig-examples swig4.0-examples swig4.0-doc\n",
            "The following NEW packages will be installed:\n",
            "  swig swig4.0\n",
            "0 upgraded, 2 newly installed, 0 to remove and 55 not upgraded.\n",
            "Need to get 1,116 kB of archives.\n",
            "After this operation, 5,542 kB of additional disk space will be used.\n",
            "Get:1 http://archive.ubuntu.com/ubuntu jammy/universe amd64 swig4.0 amd64 4.0.2-1ubuntu1 [1,110 kB]\n",
            "Get:2 http://archive.ubuntu.com/ubuntu jammy/universe amd64 swig all 4.0.2-1ubuntu1 [5,632 B]\n",
            "Fetched 1,116 kB in 2s (738 kB/s)\n",
            "Selecting previously unselected package swig4.0.\n",
            "(Reading database ... 123598 files and directories currently installed.)\n",
            "Preparing to unpack .../swig4.0_4.0.2-1ubuntu1_amd64.deb ...\n",
            "Unpacking swig4.0 (4.0.2-1ubuntu1) ...\n",
            "Selecting previously unselected package swig.\n",
            "Preparing to unpack .../swig_4.0.2-1ubuntu1_all.deb ...\n",
            "Unpacking swig (4.0.2-1ubuntu1) ...\n",
            "Setting up swig4.0 (4.0.2-1ubuntu1) ...\n",
            "Setting up swig (4.0.2-1ubuntu1) ...\n",
            "Processing triggers for man-db (2.10.2-1) ...\n"
          ]
        }
      ]
    },
    {
      "cell_type": "code",
      "execution_count": null,
      "metadata": {
        "id": "gWskDE2c9WoN"
      },
      "outputs": [],
      "source": [
        "#!apt-get update && apt-get install swig cmake > \\dev/null\n",
        "#!pip install -q box2d-py\n",
        "#!pip install \"stable-baselines3[extra]\" #>=2.0.0a4\""
      ]
    },
    {
      "cell_type": "code",
      "source": [
        "!pip install gymnasium[box2d]"
      ],
      "metadata": {
        "id": "zTqZaKFM74GM",
        "colab": {
          "base_uri": "https://localhost:8080/"
        },
        "outputId": "d69d4011-25b8-4567-94d3-b9121948cff4"
      },
      "execution_count": null,
      "outputs": [
        {
          "output_type": "stream",
          "name": "stdout",
          "text": [
            "Requirement already satisfied: gymnasium[box2d] in /usr/local/lib/python3.10/dist-packages (0.29.1)\n",
            "Requirement already satisfied: numpy>=1.21.0 in /usr/local/lib/python3.10/dist-packages (from gymnasium[box2d]) (1.26.4)\n",
            "Requirement already satisfied: cloudpickle>=1.2.0 in /usr/local/lib/python3.10/dist-packages (from gymnasium[box2d]) (2.2.1)\n",
            "Requirement already satisfied: typing-extensions>=4.3.0 in /usr/local/lib/python3.10/dist-packages (from gymnasium[box2d]) (4.12.2)\n",
            "Requirement already satisfied: farama-notifications>=0.0.1 in /usr/local/lib/python3.10/dist-packages (from gymnasium[box2d]) (0.0.4)\n",
            "Collecting box2d-py==2.3.5 (from gymnasium[box2d])\n",
            "  Downloading box2d-py-2.3.5.tar.gz (374 kB)\n",
            "\u001b[?25l     \u001b[90m━━━━━━━━━━━━━━━━━━━━━━━━━━━━━━━━━━━━━━━━\u001b[0m \u001b[32m0.0/374.4 kB\u001b[0m \u001b[31m?\u001b[0m eta \u001b[36m-:--:--\u001b[0m\r\u001b[2K     \u001b[91m━━━━━━━━━━━━━━━━━━━━━━━━━━━━━━━━━━━━━━━\u001b[0m\u001b[90m╺\u001b[0m \u001b[32m368.6/374.4 kB\u001b[0m \u001b[31m11.9 MB/s\u001b[0m eta \u001b[36m0:00:01\u001b[0m\r\u001b[2K     \u001b[90m━━━━━━━━━━━━━━━━━━━━━━━━━━━━━━━━━━━━━━━━\u001b[0m \u001b[32m374.4/374.4 kB\u001b[0m \u001b[31m8.2 MB/s\u001b[0m eta \u001b[36m0:00:00\u001b[0m\n",
            "\u001b[?25h  Preparing metadata (setup.py) ... \u001b[?25l\u001b[?25hdone\n",
            "Requirement already satisfied: pygame>=2.1.3 in /usr/local/lib/python3.10/dist-packages (from gymnasium[box2d]) (2.6.0)\n",
            "Collecting swig==4.* (from gymnasium[box2d])\n",
            "  Downloading swig-4.2.1-py2.py3-none-manylinux_2_5_x86_64.manylinux1_x86_64.whl.metadata (3.6 kB)\n",
            "Downloading swig-4.2.1-py2.py3-none-manylinux_2_5_x86_64.manylinux1_x86_64.whl (1.9 MB)\n",
            "\u001b[2K   \u001b[90m━━━━━━━━━━━━━━━━━━━━━━━━━━━━━━━━━━━━━━━━\u001b[0m \u001b[32m1.9/1.9 MB\u001b[0m \u001b[31m44.5 MB/s\u001b[0m eta \u001b[36m0:00:00\u001b[0m\n",
            "\u001b[?25hBuilding wheels for collected packages: box2d-py\n",
            "  Building wheel for box2d-py (setup.py) ... \u001b[?25l\u001b[?25hdone\n",
            "  Created wheel for box2d-py: filename=box2d_py-2.3.5-cp310-cp310-linux_x86_64.whl size=2349112 sha256=b03eb43567d0c70b6239148e394092c09dbd047ec3397264eba06f922028e85b\n",
            "  Stored in directory: /root/.cache/pip/wheels/db/8f/6a/eaaadf056fba10a98d986f6dce954e6201ba3126926fc5ad9e\n",
            "Successfully built box2d-py\n",
            "Installing collected packages: swig, box2d-py\n",
            "Successfully installed box2d-py-2.3.5 swig-4.2.1\n"
          ]
        }
      ]
    },
    {
      "cell_type": "code",
      "source": [
        "!pip install stable-baselines3[extra]"
      ],
      "metadata": {
        "id": "vHwvolGt6eJH",
        "colab": {
          "base_uri": "https://localhost:8080/"
        },
        "outputId": "3555dc83-6bf0-49bc-feac-1166ce8865c6"
      },
      "execution_count": null,
      "outputs": [
        {
          "output_type": "stream",
          "name": "stdout",
          "text": [
            "Collecting stable-baselines3[extra]\n",
            "  Downloading stable_baselines3-2.3.2-py3-none-any.whl.metadata (5.1 kB)\n",
            "Requirement already satisfied: gymnasium<0.30,>=0.28.1 in /usr/local/lib/python3.10/dist-packages (from stable-baselines3[extra]) (0.29.1)\n",
            "Requirement already satisfied: numpy>=1.20 in /usr/local/lib/python3.10/dist-packages (from stable-baselines3[extra]) (1.26.4)\n",
            "Requirement already satisfied: torch>=1.13 in /usr/local/lib/python3.10/dist-packages (from stable-baselines3[extra]) (2.3.1+cu121)\n",
            "Requirement already satisfied: cloudpickle in /usr/local/lib/python3.10/dist-packages (from stable-baselines3[extra]) (2.2.1)\n",
            "Requirement already satisfied: pandas in /usr/local/lib/python3.10/dist-packages (from stable-baselines3[extra]) (2.1.4)\n",
            "Requirement already satisfied: matplotlib in /usr/local/lib/python3.10/dist-packages (from stable-baselines3[extra]) (3.7.1)\n",
            "Requirement already satisfied: opencv-python in /usr/local/lib/python3.10/dist-packages (from stable-baselines3[extra]) (4.10.0.84)\n",
            "Requirement already satisfied: pygame in /usr/local/lib/python3.10/dist-packages (from stable-baselines3[extra]) (2.6.0)\n",
            "Requirement already satisfied: tensorboard>=2.9.1 in /usr/local/lib/python3.10/dist-packages (from stable-baselines3[extra]) (2.17.0)\n",
            "Requirement already satisfied: psutil in /usr/local/lib/python3.10/dist-packages (from stable-baselines3[extra]) (5.9.5)\n",
            "Requirement already satisfied: tqdm in /usr/local/lib/python3.10/dist-packages (from stable-baselines3[extra]) (4.66.5)\n",
            "Requirement already satisfied: rich in /usr/local/lib/python3.10/dist-packages (from stable-baselines3[extra]) (13.7.1)\n",
            "Collecting shimmy~=1.3.0 (from shimmy[atari]~=1.3.0; extra == \"extra\"->stable-baselines3[extra])\n",
            "  Downloading Shimmy-1.3.0-py3-none-any.whl.metadata (3.7 kB)\n",
            "Requirement already satisfied: pillow in /usr/local/lib/python3.10/dist-packages (from stable-baselines3[extra]) (9.4.0)\n",
            "Collecting autorom~=0.6.1 (from autorom[accept-rom-license]~=0.6.1; extra == \"extra\"->stable-baselines3[extra])\n",
            "  Downloading AutoROM-0.6.1-py3-none-any.whl.metadata (2.4 kB)\n",
            "Requirement already satisfied: click in /usr/local/lib/python3.10/dist-packages (from autorom~=0.6.1->autorom[accept-rom-license]~=0.6.1; extra == \"extra\"->stable-baselines3[extra]) (8.1.7)\n",
            "Requirement already satisfied: requests in /usr/local/lib/python3.10/dist-packages (from autorom~=0.6.1->autorom[accept-rom-license]~=0.6.1; extra == \"extra\"->stable-baselines3[extra]) (2.32.3)\n",
            "Collecting AutoROM.accept-rom-license (from autorom[accept-rom-license]~=0.6.1; extra == \"extra\"->stable-baselines3[extra])\n",
            "  Downloading AutoROM.accept-rom-license-0.6.1.tar.gz (434 kB)\n",
            "\u001b[2K     \u001b[90m━━━━━━━━━━━━━━━━━━━━━━━━━━━━━━━━━━━━━━━━\u001b[0m \u001b[32m434.7/434.7 kB\u001b[0m \u001b[31m9.3 MB/s\u001b[0m eta \u001b[36m0:00:00\u001b[0m\n",
            "\u001b[?25h  Installing build dependencies ... \u001b[?25l\u001b[?25hdone\n",
            "  Getting requirements to build wheel ... \u001b[?25l\u001b[?25hdone\n",
            "  Preparing metadata (pyproject.toml) ... \u001b[?25l\u001b[?25hdone\n",
            "Requirement already satisfied: typing-extensions>=4.3.0 in /usr/local/lib/python3.10/dist-packages (from gymnasium<0.30,>=0.28.1->stable-baselines3[extra]) (4.12.2)\n",
            "Requirement already satisfied: farama-notifications>=0.0.1 in /usr/local/lib/python3.10/dist-packages (from gymnasium<0.30,>=0.28.1->stable-baselines3[extra]) (0.0.4)\n",
            "Collecting ale-py~=0.8.1 (from shimmy[atari]~=1.3.0; extra == \"extra\"->stable-baselines3[extra])\n",
            "  Downloading ale_py-0.8.1-cp310-cp310-manylinux_2_17_x86_64.manylinux2014_x86_64.whl.metadata (8.1 kB)\n",
            "Requirement already satisfied: absl-py>=0.4 in /usr/local/lib/python3.10/dist-packages (from tensorboard>=2.9.1->stable-baselines3[extra]) (1.4.0)\n",
            "Requirement already satisfied: grpcio>=1.48.2 in /usr/local/lib/python3.10/dist-packages (from tensorboard>=2.9.1->stable-baselines3[extra]) (1.64.1)\n",
            "Requirement already satisfied: markdown>=2.6.8 in /usr/local/lib/python3.10/dist-packages (from tensorboard>=2.9.1->stable-baselines3[extra]) (3.6)\n",
            "Requirement already satisfied: protobuf!=4.24.0,<5.0.0,>=3.19.6 in /usr/local/lib/python3.10/dist-packages (from tensorboard>=2.9.1->stable-baselines3[extra]) (3.20.3)\n",
            "Requirement already satisfied: setuptools>=41.0.0 in /usr/local/lib/python3.10/dist-packages (from tensorboard>=2.9.1->stable-baselines3[extra]) (71.0.4)\n",
            "Requirement already satisfied: six>1.9 in /usr/local/lib/python3.10/dist-packages (from tensorboard>=2.9.1->stable-baselines3[extra]) (1.16.0)\n",
            "Requirement already satisfied: tensorboard-data-server<0.8.0,>=0.7.0 in /usr/local/lib/python3.10/dist-packages (from tensorboard>=2.9.1->stable-baselines3[extra]) (0.7.2)\n",
            "Requirement already satisfied: werkzeug>=1.0.1 in /usr/local/lib/python3.10/dist-packages (from tensorboard>=2.9.1->stable-baselines3[extra]) (3.0.3)\n",
            "Requirement already satisfied: filelock in /usr/local/lib/python3.10/dist-packages (from torch>=1.13->stable-baselines3[extra]) (3.15.4)\n",
            "Requirement already satisfied: sympy in /usr/local/lib/python3.10/dist-packages (from torch>=1.13->stable-baselines3[extra]) (1.13.1)\n",
            "Requirement already satisfied: networkx in /usr/local/lib/python3.10/dist-packages (from torch>=1.13->stable-baselines3[extra]) (3.3)\n",
            "Requirement already satisfied: jinja2 in /usr/local/lib/python3.10/dist-packages (from torch>=1.13->stable-baselines3[extra]) (3.1.4)\n",
            "Requirement already satisfied: fsspec in /usr/local/lib/python3.10/dist-packages (from torch>=1.13->stable-baselines3[extra]) (2024.6.1)\n",
            "Collecting nvidia-cuda-nvrtc-cu12==12.1.105 (from torch>=1.13->stable-baselines3[extra])\n",
            "  Using cached nvidia_cuda_nvrtc_cu12-12.1.105-py3-none-manylinux1_x86_64.whl.metadata (1.5 kB)\n",
            "Collecting nvidia-cuda-runtime-cu12==12.1.105 (from torch>=1.13->stable-baselines3[extra])\n",
            "  Using cached nvidia_cuda_runtime_cu12-12.1.105-py3-none-manylinux1_x86_64.whl.metadata (1.5 kB)\n",
            "Collecting nvidia-cuda-cupti-cu12==12.1.105 (from torch>=1.13->stable-baselines3[extra])\n",
            "  Using cached nvidia_cuda_cupti_cu12-12.1.105-py3-none-manylinux1_x86_64.whl.metadata (1.6 kB)\n",
            "Collecting nvidia-cudnn-cu12==8.9.2.26 (from torch>=1.13->stable-baselines3[extra])\n",
            "  Using cached nvidia_cudnn_cu12-8.9.2.26-py3-none-manylinux1_x86_64.whl.metadata (1.6 kB)\n",
            "Collecting nvidia-cublas-cu12==12.1.3.1 (from torch>=1.13->stable-baselines3[extra])\n",
            "  Using cached nvidia_cublas_cu12-12.1.3.1-py3-none-manylinux1_x86_64.whl.metadata (1.5 kB)\n",
            "Collecting nvidia-cufft-cu12==11.0.2.54 (from torch>=1.13->stable-baselines3[extra])\n",
            "  Using cached nvidia_cufft_cu12-11.0.2.54-py3-none-manylinux1_x86_64.whl.metadata (1.5 kB)\n",
            "Collecting nvidia-curand-cu12==10.3.2.106 (from torch>=1.13->stable-baselines3[extra])\n",
            "  Using cached nvidia_curand_cu12-10.3.2.106-py3-none-manylinux1_x86_64.whl.metadata (1.5 kB)\n",
            "Collecting nvidia-cusolver-cu12==11.4.5.107 (from torch>=1.13->stable-baselines3[extra])\n",
            "  Using cached nvidia_cusolver_cu12-11.4.5.107-py3-none-manylinux1_x86_64.whl.metadata (1.6 kB)\n",
            "Collecting nvidia-cusparse-cu12==12.1.0.106 (from torch>=1.13->stable-baselines3[extra])\n",
            "  Using cached nvidia_cusparse_cu12-12.1.0.106-py3-none-manylinux1_x86_64.whl.metadata (1.6 kB)\n",
            "Collecting nvidia-nccl-cu12==2.20.5 (from torch>=1.13->stable-baselines3[extra])\n",
            "  Using cached nvidia_nccl_cu12-2.20.5-py3-none-manylinux2014_x86_64.whl.metadata (1.8 kB)\n",
            "Collecting nvidia-nvtx-cu12==12.1.105 (from torch>=1.13->stable-baselines3[extra])\n",
            "  Using cached nvidia_nvtx_cu12-12.1.105-py3-none-manylinux1_x86_64.whl.metadata (1.7 kB)\n",
            "Requirement already satisfied: triton==2.3.1 in /usr/local/lib/python3.10/dist-packages (from torch>=1.13->stable-baselines3[extra]) (2.3.1)\n",
            "Collecting nvidia-nvjitlink-cu12 (from nvidia-cusolver-cu12==11.4.5.107->torch>=1.13->stable-baselines3[extra])\n",
            "  Using cached nvidia_nvjitlink_cu12-12.6.20-py3-none-manylinux2014_x86_64.whl.metadata (1.5 kB)\n",
            "Requirement already satisfied: contourpy>=1.0.1 in /usr/local/lib/python3.10/dist-packages (from matplotlib->stable-baselines3[extra]) (1.2.1)\n",
            "Requirement already satisfied: cycler>=0.10 in /usr/local/lib/python3.10/dist-packages (from matplotlib->stable-baselines3[extra]) (0.12.1)\n",
            "Requirement already satisfied: fonttools>=4.22.0 in /usr/local/lib/python3.10/dist-packages (from matplotlib->stable-baselines3[extra]) (4.53.1)\n",
            "Requirement already satisfied: kiwisolver>=1.0.1 in /usr/local/lib/python3.10/dist-packages (from matplotlib->stable-baselines3[extra]) (1.4.5)\n",
            "Requirement already satisfied: packaging>=20.0 in /usr/local/lib/python3.10/dist-packages (from matplotlib->stable-baselines3[extra]) (24.1)\n",
            "Requirement already satisfied: pyparsing>=2.3.1 in /usr/local/lib/python3.10/dist-packages (from matplotlib->stable-baselines3[extra]) (3.1.2)\n",
            "Requirement already satisfied: python-dateutil>=2.7 in /usr/local/lib/python3.10/dist-packages (from matplotlib->stable-baselines3[extra]) (2.8.2)\n",
            "Requirement already satisfied: pytz>=2020.1 in /usr/local/lib/python3.10/dist-packages (from pandas->stable-baselines3[extra]) (2024.1)\n",
            "Requirement already satisfied: tzdata>=2022.1 in /usr/local/lib/python3.10/dist-packages (from pandas->stable-baselines3[extra]) (2024.1)\n",
            "Requirement already satisfied: markdown-it-py>=2.2.0 in /usr/local/lib/python3.10/dist-packages (from rich->stable-baselines3[extra]) (3.0.0)\n",
            "Requirement already satisfied: pygments<3.0.0,>=2.13.0 in /usr/local/lib/python3.10/dist-packages (from rich->stable-baselines3[extra]) (2.16.1)\n",
            "Requirement already satisfied: importlib-resources in /usr/local/lib/python3.10/dist-packages (from ale-py~=0.8.1->shimmy[atari]~=1.3.0; extra == \"extra\"->stable-baselines3[extra]) (6.4.0)\n",
            "Requirement already satisfied: mdurl~=0.1 in /usr/local/lib/python3.10/dist-packages (from markdown-it-py>=2.2.0->rich->stable-baselines3[extra]) (0.1.2)\n",
            "Requirement already satisfied: MarkupSafe>=2.1.1 in /usr/local/lib/python3.10/dist-packages (from werkzeug>=1.0.1->tensorboard>=2.9.1->stable-baselines3[extra]) (2.1.5)\n",
            "Requirement already satisfied: charset-normalizer<4,>=2 in /usr/local/lib/python3.10/dist-packages (from requests->autorom~=0.6.1->autorom[accept-rom-license]~=0.6.1; extra == \"extra\"->stable-baselines3[extra]) (3.3.2)\n",
            "Requirement already satisfied: idna<4,>=2.5 in /usr/local/lib/python3.10/dist-packages (from requests->autorom~=0.6.1->autorom[accept-rom-license]~=0.6.1; extra == \"extra\"->stable-baselines3[extra]) (3.7)\n",
            "Requirement already satisfied: urllib3<3,>=1.21.1 in /usr/local/lib/python3.10/dist-packages (from requests->autorom~=0.6.1->autorom[accept-rom-license]~=0.6.1; extra == \"extra\"->stable-baselines3[extra]) (2.0.7)\n",
            "Requirement already satisfied: certifi>=2017.4.17 in /usr/local/lib/python3.10/dist-packages (from requests->autorom~=0.6.1->autorom[accept-rom-license]~=0.6.1; extra == \"extra\"->stable-baselines3[extra]) (2024.7.4)\n",
            "Requirement already satisfied: mpmath<1.4,>=1.1.0 in /usr/local/lib/python3.10/dist-packages (from sympy->torch>=1.13->stable-baselines3[extra]) (1.3.0)\n",
            "Downloading AutoROM-0.6.1-py3-none-any.whl (9.4 kB)\n",
            "Downloading Shimmy-1.3.0-py3-none-any.whl (37 kB)\n",
            "Using cached nvidia_cublas_cu12-12.1.3.1-py3-none-manylinux1_x86_64.whl (410.6 MB)\n",
            "Using cached nvidia_cuda_cupti_cu12-12.1.105-py3-none-manylinux1_x86_64.whl (14.1 MB)\n",
            "Using cached nvidia_cuda_nvrtc_cu12-12.1.105-py3-none-manylinux1_x86_64.whl (23.7 MB)\n",
            "Using cached nvidia_cuda_runtime_cu12-12.1.105-py3-none-manylinux1_x86_64.whl (823 kB)\n",
            "Using cached nvidia_cudnn_cu12-8.9.2.26-py3-none-manylinux1_x86_64.whl (731.7 MB)\n",
            "Using cached nvidia_cufft_cu12-11.0.2.54-py3-none-manylinux1_x86_64.whl (121.6 MB)\n",
            "Using cached nvidia_curand_cu12-10.3.2.106-py3-none-manylinux1_x86_64.whl (56.5 MB)\n",
            "Using cached nvidia_cusolver_cu12-11.4.5.107-py3-none-manylinux1_x86_64.whl (124.2 MB)\n",
            "Using cached nvidia_cusparse_cu12-12.1.0.106-py3-none-manylinux1_x86_64.whl (196.0 MB)\n",
            "Using cached nvidia_nccl_cu12-2.20.5-py3-none-manylinux2014_x86_64.whl (176.2 MB)\n",
            "Using cached nvidia_nvtx_cu12-12.1.105-py3-none-manylinux1_x86_64.whl (99 kB)\n",
            "Downloading stable_baselines3-2.3.2-py3-none-any.whl (182 kB)\n",
            "\u001b[2K   \u001b[90m━━━━━━━━━━━━━━━━━━━━━━━━━━━━━━━━━━━━━━━━\u001b[0m \u001b[32m182.3/182.3 kB\u001b[0m \u001b[31m279.9 kB/s\u001b[0m eta \u001b[36m0:00:00\u001b[0m\n",
            "\u001b[?25hDownloading ale_py-0.8.1-cp310-cp310-manylinux_2_17_x86_64.manylinux2014_x86_64.whl (1.7 MB)\n",
            "\u001b[2K   \u001b[90m━━━━━━━━━━━━━━━━━━━━━━━━━━━━━━━━━━━━━━━━\u001b[0m \u001b[32m1.7/1.7 MB\u001b[0m \u001b[31m45.2 MB/s\u001b[0m eta \u001b[36m0:00:00\u001b[0m\n",
            "\u001b[?25hUsing cached nvidia_nvjitlink_cu12-12.6.20-py3-none-manylinux2014_x86_64.whl (19.7 MB)\n",
            "Building wheels for collected packages: AutoROM.accept-rom-license\n",
            "  Building wheel for AutoROM.accept-rom-license (pyproject.toml) ... \u001b[?25l\u001b[?25hdone\n",
            "  Created wheel for AutoROM.accept-rom-license: filename=AutoROM.accept_rom_license-0.6.1-py3-none-any.whl size=446661 sha256=b039deeb2afe432bb8e797771f6a4afd7db67f2d02429c2399042bad0786229c\n",
            "  Stored in directory: /root/.cache/pip/wheels/6b/1b/ef/a43ff1a2f1736d5711faa1ba4c1f61be1131b8899e6a057811\n",
            "Successfully built AutoROM.accept-rom-license\n",
            "Installing collected packages: nvidia-nvtx-cu12, nvidia-nvjitlink-cu12, nvidia-nccl-cu12, nvidia-curand-cu12, nvidia-cufft-cu12, nvidia-cuda-runtime-cu12, nvidia-cuda-nvrtc-cu12, nvidia-cuda-cupti-cu12, nvidia-cublas-cu12, ale-py, shimmy, nvidia-cusparse-cu12, nvidia-cudnn-cu12, AutoROM.accept-rom-license, autorom, nvidia-cusolver-cu12, stable-baselines3\n",
            "Successfully installed AutoROM.accept-rom-license-0.6.1 ale-py-0.8.1 autorom-0.6.1 nvidia-cublas-cu12-12.1.3.1 nvidia-cuda-cupti-cu12-12.1.105 nvidia-cuda-nvrtc-cu12-12.1.105 nvidia-cuda-runtime-cu12-12.1.105 nvidia-cudnn-cu12-8.9.2.26 nvidia-cufft-cu12-11.0.2.54 nvidia-curand-cu12-10.3.2.106 nvidia-cusolver-cu12-11.4.5.107 nvidia-cusparse-cu12-12.1.0.106 nvidia-nccl-cu12-2.20.5 nvidia-nvjitlink-cu12-12.6.20 nvidia-nvtx-cu12-12.1.105 shimmy-1.3.0 stable-baselines3-2.3.2\n"
          ]
        }
      ]
    },
    {
      "cell_type": "markdown",
      "source": [],
      "metadata": {
        "id": "_ZkXrY-uLzX0"
      }
    },
    {
      "cell_type": "code",
      "source": [
        "import gymnasium as gym\n",
        "env = gym.make(\"CarRacing-v2\", domain_randomize=True)\n",
        "\n",
        "# normal reset, this changes the colour scheme by default\n",
        "env.reset()\n",
        "\n",
        "# reset with colour scheme change\n",
        "env.reset(options={\"randomize\": True})\n",
        "\n",
        "# reset with no colour scheme change\n",
        "env.reset(options={\"randomize\": False})"
      ],
      "metadata": {
        "colab": {
          "base_uri": "https://localhost:8080/"
        },
        "id": "dOHqUy2E7tti",
        "outputId": "39f016cd-964b-4b75-c277-1390119f3fee"
      },
      "execution_count": null,
      "outputs": [
        {
          "output_type": "execute_result",
          "data": {
            "text/plain": [
              "(array([[[0, 0, 0],\n",
              "         [0, 0, 0],\n",
              "         [0, 0, 0],\n",
              "         ...,\n",
              "         [0, 0, 0],\n",
              "         [0, 0, 0],\n",
              "         [0, 0, 0]],\n",
              " \n",
              "        [[0, 0, 0],\n",
              "         [0, 0, 0],\n",
              "         [0, 0, 0],\n",
              "         ...,\n",
              "         [0, 0, 0],\n",
              "         [0, 0, 0],\n",
              "         [0, 0, 0]],\n",
              " \n",
              "        [[0, 0, 0],\n",
              "         [0, 0, 0],\n",
              "         [0, 0, 0],\n",
              "         ...,\n",
              "         [0, 0, 0],\n",
              "         [0, 0, 0],\n",
              "         [0, 0, 0]],\n",
              " \n",
              "        ...,\n",
              " \n",
              "        [[0, 0, 0],\n",
              "         [0, 0, 0],\n",
              "         [0, 0, 0],\n",
              "         ...,\n",
              "         [0, 0, 0],\n",
              "         [0, 0, 0],\n",
              "         [0, 0, 0]],\n",
              " \n",
              "        [[0, 0, 0],\n",
              "         [0, 0, 0],\n",
              "         [0, 0, 0],\n",
              "         ...,\n",
              "         [0, 0, 0],\n",
              "         [0, 0, 0],\n",
              "         [0, 0, 0]],\n",
              " \n",
              "        [[0, 0, 0],\n",
              "         [0, 0, 0],\n",
              "         [0, 0, 0],\n",
              "         ...,\n",
              "         [0, 0, 0],\n",
              "         [0, 0, 0],\n",
              "         [0, 0, 0]]], dtype=uint8),\n",
              " {})"
            ]
          },
          "metadata": {},
          "execution_count": 6
        }
      ]
    },
    {
      "cell_type": "code",
      "execution_count": null,
      "metadata": {
        "id": "ZzG5f3qa5-Ae",
        "colab": {
          "base_uri": "https://localhost:8080/"
        },
        "outputId": "b5fdbc66-8372-4ea8-f6d7-7167e607141a"
      },
      "outputs": [
        {
          "output_type": "stream",
          "name": "stderr",
          "text": [
            "/usr/local/lib/python3.10/dist-packages/ipykernel/ipkernel.py:283: DeprecationWarning: `should_run_async` will not call `transform_cell` automatically in the future. Please pass the result to `transformed_cell` argument and any exception that happen during thetransform in `preprocessing_exc_tuple` in IPython 7.17 and above.\n",
            "  and should_run_async(code)\n"
          ]
        },
        {
          "output_type": "execute_result",
          "data": {
            "text/plain": [
              "(array([[[0, 0, 0],\n",
              "         [0, 0, 0],\n",
              "         [0, 0, 0],\n",
              "         ...,\n",
              "         [0, 0, 0],\n",
              "         [0, 0, 0],\n",
              "         [0, 0, 0]],\n",
              " \n",
              "        [[0, 0, 0],\n",
              "         [0, 0, 0],\n",
              "         [0, 0, 0],\n",
              "         ...,\n",
              "         [0, 0, 0],\n",
              "         [0, 0, 0],\n",
              "         [0, 0, 0]],\n",
              " \n",
              "        [[0, 0, 0],\n",
              "         [0, 0, 0],\n",
              "         [0, 0, 0],\n",
              "         ...,\n",
              "         [0, 0, 0],\n",
              "         [0, 0, 0],\n",
              "         [0, 0, 0]],\n",
              " \n",
              "        ...,\n",
              " \n",
              "        [[0, 0, 0],\n",
              "         [0, 0, 0],\n",
              "         [0, 0, 0],\n",
              "         ...,\n",
              "         [0, 0, 0],\n",
              "         [0, 0, 0],\n",
              "         [0, 0, 0]],\n",
              " \n",
              "        [[0, 0, 0],\n",
              "         [0, 0, 0],\n",
              "         [0, 0, 0],\n",
              "         ...,\n",
              "         [0, 0, 0],\n",
              "         [0, 0, 0],\n",
              "         [0, 0, 0]],\n",
              " \n",
              "        [[0, 0, 0],\n",
              "         [0, 0, 0],\n",
              "         [0, 0, 0],\n",
              "         ...,\n",
              "         [0, 0, 0],\n",
              "         [0, 0, 0],\n",
              "         [0, 0, 0]]], dtype=uint8),\n",
              " {})"
            ]
          },
          "metadata": {},
          "execution_count": 7
        }
      ],
      "source": [
        "env = gym.make(\"CarRacing-v2\", domain_randomize=True)\n",
        "\n",
        "# normal reset, this changes the colour scheme by default\n",
        "env.reset()\n",
        "\n",
        "# reset with colour scheme change\n",
        "#env.reset(options={\"randomize\": True})\n",
        "\n",
        "# reset with no colour scheme change\n",
        "#env.reset(options={\"randomize\": False})"
      ]
    },
    {
      "cell_type": "code",
      "execution_count": null,
      "metadata": {
        "id": "tckB9zYQ305U"
      },
      "outputs": [],
      "source": [
        "# for autoformatting\n",
        "# %load_ext jupyter_black"
      ]
    },
    {
      "cell_type": "markdown",
      "metadata": {
        "id": "FtY8FhliLsGm"
      },
      "source": [
        "## Import policy, RL agent, ..."
      ]
    },
    {
      "cell_type": "code",
      "execution_count": null,
      "metadata": {
        "id": "BIedd7Pz9sOs"
      },
      "outputs": [],
      "source": [
        "# import gymnasium as gym\n",
        "import numpy as np\n",
        "\n",
        "from stable_baselines3 import DQN"
      ]
    },
    {
      "cell_type": "markdown",
      "metadata": {
        "id": "RapkYvTXL7Cd"
      },
      "source": [
        "## Create the Gym env and instantiate the agent\n",
        "\n",
        "For this example, we will use Lunar Lander environment.\n",
        "\n",
        "\"Landing outside landing pad is possible. Fuel is infinite, so an agent can learn to fly and then land on its first attempt. Four discrete actions available: do nothing, fire left orientation engine, fire main engine, fire right orientation engine. \"\n",
        "\n",
        "Lunar Lander environment: [https://gymnasium.farama.org/environments/box2d/lunar_lander/](https://gymnasium.farama.org/environments/box2d/lunar_lander/)\n",
        "\n",
        "![Lunar Lander](https://cdn-images-1.medium.com/max/960/1*f4VZPKOI0PYNWiwt0la0Rg.gif)\n",
        "\n",
        "\n",
        "We chose the MlpPolicy because input of Lunar Lander is a feature vector, not images.\n",
        "\n",
        "The type of action to use (discrete/continuous) will be automatically deduced from the environment action space\n",
        "\n"
      ]
    },
    {
      "cell_type": "code",
      "execution_count": null,
      "metadata": {
        "id": "rgJ1QTBgbzyo"
      },
      "outputs": [],
      "source": [
        "# del model"
      ]
    },
    {
      "cell_type": "code",
      "execution_count": null,
      "metadata": {
        "colab": {
          "base_uri": "https://localhost:8080/"
        },
        "id": "pUWGZp3i9wyf",
        "outputId": "38b3b619-b4ca-4e99-d3f2-ca0da2cb2e17"
      },
      "outputs": [
        {
          "output_type": "stream",
          "name": "stdout",
          "text": [
            "Using cpu device\n",
            "Creating environment from the given name 'LunarLander-v2'\n",
            "Wrapping the env with a `Monitor` wrapper\n",
            "Wrapping the env in a DummyVecEnv.\n"
          ]
        }
      ],
      "source": [
        "model = DQN(\n",
        "    \"MlpPolicy\",\n",
        "    \"LunarLander-v2\",\n",
        "    verbose=1,\n",
        "    exploration_final_eps=0.1,\n",
        "    target_update_interval=250,\n",
        "\n",
        "    learning_rate=0.001,\n",
        "    # buffer_size=50000,\n",
        "    # batch_size=64,\n",
        ")"
      ]
    },
    {
      "cell_type": "markdown",
      "metadata": {
        "id": "4efFdrQ7MBvl"
      },
      "source": [
        "We load a helper function to evaluate the agent:"
      ]
    },
    {
      "cell_type": "code",
      "execution_count": null,
      "metadata": {
        "id": "PeaVBGuJwK97"
      },
      "outputs": [],
      "source": [
        "from stable_baselines3.common.evaluation import evaluate_policy"
      ]
    },
    {
      "cell_type": "markdown",
      "metadata": {
        "id": "zjEVOIY8NVeK"
      },
      "source": [
        "Let's evaluate the un-trained agent, this should be a random agent."
      ]
    },
    {
      "cell_type": "code",
      "execution_count": null,
      "metadata": {
        "colab": {
          "base_uri": "https://localhost:8080/"
        },
        "id": "xDHLMA6NFk95",
        "outputId": "35c6d4d8-989d-4fc7-b05b-b3faa5f09727"
      },
      "outputs": [
        {
          "output_type": "stream",
          "name": "stderr",
          "text": [
            "/usr/local/lib/python3.10/dist-packages/stable_baselines3/common/evaluation.py:67: UserWarning: Evaluation environment is not wrapped with a ``Monitor`` wrapper. This may result in reporting modified episode lengths and rewards, if other wrappers happen to modify these. Consider wrapping environment first with ``Monitor`` wrapper.\n",
            "  warnings.warn(\n"
          ]
        },
        {
          "output_type": "stream",
          "name": "stdout",
          "text": [
            "mean_reward=-718.65 +/- 264.673966897479\n"
          ]
        }
      ],
      "source": [
        "# Separate env for evaluation\n",
        "eval_env = gym.make(\"LunarLander-v2\")\n",
        "\n",
        "# Random Agent, before training\n",
        "mean_reward, std_reward = evaluate_policy(\n",
        "    model,\n",
        "    eval_env,\n",
        "    n_eval_episodes=10,\n",
        "    deterministic=True,\n",
        ")\n",
        "\n",
        "print(f\"mean_reward={mean_reward:.2f} +/- {std_reward}\")"
      ]
    },
    {
      "cell_type": "markdown",
      "metadata": {
        "id": "r5UoXTZPNdFE"
      },
      "source": [
        "## Train the agent and save it\n",
        "\n",
        "Warning: this may take a while"
      ]
    },
    {
      "cell_type": "code",
      "execution_count": null,
      "metadata": {
        "id": "21uwATfoAa-3"
      },
      "outputs": [],
      "source": [
        "#del model"
      ]
    },
    {
      "cell_type": "code",
      "execution_count": null,
      "metadata": {
        "id": "e4cfSXIB-pTF",
        "colab": {
          "base_uri": "https://localhost:8080/"
        },
        "outputId": "a0894ccd-d146-421a-f2b5-b5ee706e0e3b"
      },
      "outputs": [
        {
          "output_type": "stream",
          "name": "stdout",
          "text": [
            "----------------------------------\n",
            "| rollout/            |          |\n",
            "|    ep_len_mean      | 92.2     |\n",
            "|    ep_rew_mean      | -127     |\n",
            "|    exploration_rate | 0.967    |\n",
            "| time/               |          |\n",
            "|    episodes         | 4        |\n",
            "|    fps              | 618      |\n",
            "|    time_elapsed     | 0        |\n",
            "|    total_timesteps  | 369      |\n",
            "| train/              |          |\n",
            "|    learning_rate    | 0.001    |\n",
            "|    loss             | 0.486    |\n",
            "|    n_updates        | 67       |\n",
            "----------------------------------\n",
            "----------------------------------\n",
            "| rollout/            |          |\n",
            "|    ep_len_mean      | 83.4     |\n",
            "|    ep_rew_mean      | -145     |\n",
            "|    exploration_rate | 0.94     |\n",
            "| time/               |          |\n",
            "|    episodes         | 8        |\n",
            "|    fps              | 588      |\n",
            "|    time_elapsed     | 1        |\n",
            "|    total_timesteps  | 667      |\n",
            "| train/              |          |\n",
            "|    learning_rate    | 0.001    |\n",
            "|    loss             | 3.41     |\n",
            "|    n_updates        | 141      |\n",
            "----------------------------------\n",
            "----------------------------------\n",
            "| rollout/            |          |\n",
            "|    ep_len_mean      | 87.2     |\n",
            "|    ep_rew_mean      | -161     |\n",
            "|    exploration_rate | 0.906    |\n",
            "| time/               |          |\n",
            "|    episodes         | 12       |\n",
            "|    fps              | 584      |\n",
            "|    time_elapsed     | 1        |\n",
            "|    total_timesteps  | 1046     |\n",
            "| train/              |          |\n",
            "|    learning_rate    | 0.001    |\n",
            "|    loss             | 1.36     |\n",
            "|    n_updates        | 236      |\n",
            "----------------------------------\n",
            "----------------------------------\n",
            "| rollout/            |          |\n",
            "|    ep_len_mean      | 92.8     |\n",
            "|    ep_rew_mean      | -179     |\n",
            "|    exploration_rate | 0.866    |\n",
            "| time/               |          |\n",
            "|    episodes         | 16       |\n",
            "|    fps              | 584      |\n",
            "|    time_elapsed     | 2        |\n",
            "|    total_timesteps  | 1484     |\n",
            "| train/              |          |\n",
            "|    learning_rate    | 0.001    |\n",
            "|    loss             | 0.871    |\n",
            "|    n_updates        | 345      |\n",
            "----------------------------------\n",
            "----------------------------------\n",
            "| rollout/            |          |\n",
            "|    ep_len_mean      | 97.3     |\n",
            "|    ep_rew_mean      | -173     |\n",
            "|    exploration_rate | 0.825    |\n",
            "| time/               |          |\n",
            "|    episodes         | 20       |\n",
            "|    fps              | 622      |\n",
            "|    time_elapsed     | 3        |\n",
            "|    total_timesteps  | 1946     |\n",
            "| train/              |          |\n",
            "|    learning_rate    | 0.001    |\n",
            "|    loss             | 1.83     |\n",
            "|    n_updates        | 461      |\n",
            "----------------------------------\n",
            "----------------------------------\n",
            "| rollout/            |          |\n",
            "|    ep_len_mean      | 98.4     |\n",
            "|    ep_rew_mean      | -156     |\n",
            "|    exploration_rate | 0.787    |\n",
            "| time/               |          |\n",
            "|    episodes         | 24       |\n",
            "|    fps              | 653      |\n",
            "|    time_elapsed     | 3        |\n",
            "|    total_timesteps  | 2362     |\n",
            "| train/              |          |\n",
            "|    learning_rate    | 0.001    |\n",
            "|    loss             | 0.314    |\n",
            "|    n_updates        | 565      |\n",
            "----------------------------------\n",
            "----------------------------------\n",
            "| rollout/            |          |\n",
            "|    ep_len_mean      | 101      |\n",
            "|    ep_rew_mean      | -147     |\n",
            "|    exploration_rate | 0.746    |\n",
            "| time/               |          |\n",
            "|    episodes         | 28       |\n",
            "|    fps              | 676      |\n",
            "|    time_elapsed     | 4        |\n",
            "|    total_timesteps  | 2823     |\n",
            "| train/              |          |\n",
            "|    learning_rate    | 0.001    |\n",
            "|    loss             | 0.843    |\n",
            "|    n_updates        | 680      |\n",
            "----------------------------------\n",
            "----------------------------------\n",
            "| rollout/            |          |\n",
            "|    ep_len_mean      | 104      |\n",
            "|    ep_rew_mean      | -145     |\n",
            "|    exploration_rate | 0.701    |\n",
            "| time/               |          |\n",
            "|    episodes         | 32       |\n",
            "|    fps              | 694      |\n",
            "|    time_elapsed     | 4        |\n",
            "|    total_timesteps  | 3324     |\n",
            "| train/              |          |\n",
            "|    learning_rate    | 0.001    |\n",
            "|    loss             | 1.13     |\n",
            "|    n_updates        | 805      |\n",
            "----------------------------------\n",
            "----------------------------------\n",
            "| rollout/            |          |\n",
            "|    ep_len_mean      | 104      |\n",
            "|    ep_rew_mean      | -139     |\n",
            "|    exploration_rate | 0.662    |\n",
            "| time/               |          |\n",
            "|    episodes         | 36       |\n",
            "|    fps              | 704      |\n",
            "|    time_elapsed     | 5        |\n",
            "|    total_timesteps  | 3755     |\n",
            "| train/              |          |\n",
            "|    learning_rate    | 0.001    |\n",
            "|    loss             | 3.53     |\n",
            "|    n_updates        | 913      |\n",
            "----------------------------------\n",
            "----------------------------------\n",
            "| rollout/            |          |\n",
            "|    ep_len_mean      | 107      |\n",
            "|    ep_rew_mean      | -129     |\n",
            "|    exploration_rate | 0.613    |\n",
            "| time/               |          |\n",
            "|    episodes         | 40       |\n",
            "|    fps              | 713      |\n",
            "|    time_elapsed     | 6        |\n",
            "|    total_timesteps  | 4296     |\n",
            "| train/              |          |\n",
            "|    learning_rate    | 0.001    |\n",
            "|    loss             | 0.746    |\n",
            "|    n_updates        | 1048     |\n",
            "----------------------------------\n",
            "----------------------------------\n",
            "| rollout/            |          |\n",
            "|    ep_len_mean      | 109      |\n",
            "|    ep_rew_mean      | -124     |\n",
            "|    exploration_rate | 0.57     |\n",
            "| time/               |          |\n",
            "|    episodes         | 44       |\n",
            "|    fps              | 718      |\n",
            "|    time_elapsed     | 6        |\n",
            "|    total_timesteps  | 4779     |\n",
            "| train/              |          |\n",
            "|    learning_rate    | 0.001    |\n",
            "|    loss             | 2.76     |\n",
            "|    n_updates        | 1169     |\n",
            "----------------------------------\n",
            "----------------------------------\n",
            "| rollout/            |          |\n",
            "|    ep_len_mean      | 112      |\n",
            "|    ep_rew_mean      | -116     |\n",
            "|    exploration_rate | 0.514    |\n",
            "| time/               |          |\n",
            "|    episodes         | 48       |\n",
            "|    fps              | 718      |\n",
            "|    time_elapsed     | 7        |\n",
            "|    total_timesteps  | 5396     |\n",
            "| train/              |          |\n",
            "|    learning_rate    | 0.001    |\n",
            "|    loss             | 0.615    |\n",
            "|    n_updates        | 1323     |\n",
            "----------------------------------\n",
            "----------------------------------\n",
            "| rollout/            |          |\n",
            "|    ep_len_mean      | 125      |\n",
            "|    ep_rew_mean      | -115     |\n",
            "|    exploration_rate | 0.417    |\n",
            "| time/               |          |\n",
            "|    episodes         | 52       |\n",
            "|    fps              | 668      |\n",
            "|    time_elapsed     | 9        |\n",
            "|    total_timesteps  | 6476     |\n",
            "| train/              |          |\n",
            "|    learning_rate    | 0.001    |\n",
            "|    loss             | 1.34     |\n",
            "|    n_updates        | 1593     |\n",
            "----------------------------------\n",
            "----------------------------------\n",
            "| rollout/            |          |\n",
            "|    ep_len_mean      | 186      |\n",
            "|    ep_rew_mean      | -113     |\n",
            "|    exploration_rate | 0.1      |\n",
            "| time/               |          |\n",
            "|    episodes         | 56       |\n",
            "|    fps              | 454      |\n",
            "|    time_elapsed     | 22       |\n",
            "|    total_timesteps  | 10395    |\n",
            "| train/              |          |\n",
            "|    learning_rate    | 0.001    |\n",
            "|    loss             | 0.555    |\n",
            "|    n_updates        | 2573     |\n",
            "----------------------------------\n",
            "----------------------------------\n",
            "| rollout/            |          |\n",
            "|    ep_len_mean      | 208      |\n",
            "|    ep_rew_mean      | -101     |\n",
            "|    exploration_rate | 0.1      |\n",
            "| time/               |          |\n",
            "|    episodes         | 60       |\n",
            "|    fps              | 419      |\n",
            "|    time_elapsed     | 29       |\n",
            "|    total_timesteps  | 12495    |\n",
            "| train/              |          |\n",
            "|    learning_rate    | 0.001    |\n",
            "|    loss             | 0.515    |\n",
            "|    n_updates        | 3098     |\n",
            "----------------------------------\n",
            "----------------------------------\n",
            "| rollout/            |          |\n",
            "|    ep_len_mean      | 220      |\n",
            "|    ep_rew_mean      | -88.1    |\n",
            "|    exploration_rate | 0.1      |\n",
            "| time/               |          |\n",
            "|    episodes         | 64       |\n",
            "|    fps              | 426      |\n",
            "|    time_elapsed     | 32       |\n",
            "|    total_timesteps  | 14051    |\n",
            "| train/              |          |\n",
            "|    learning_rate    | 0.001    |\n",
            "|    loss             | 1.21     |\n",
            "|    n_updates        | 3487     |\n",
            "----------------------------------\n",
            "----------------------------------\n",
            "| rollout/            |          |\n",
            "|    ep_len_mean      | 222      |\n",
            "|    ep_rew_mean      | -84.3    |\n",
            "|    exploration_rate | 0.1      |\n",
            "| time/               |          |\n",
            "|    episodes         | 68       |\n",
            "|    fps              | 435      |\n",
            "|    time_elapsed     | 34       |\n",
            "|    total_timesteps  | 15081    |\n",
            "| train/              |          |\n",
            "|    learning_rate    | 0.001    |\n",
            "|    loss             | 1.64     |\n",
            "|    n_updates        | 3745     |\n",
            "----------------------------------\n",
            "----------------------------------\n",
            "| rollout/            |          |\n",
            "|    ep_len_mean      | 255      |\n",
            "|    ep_rew_mean      | -73.5    |\n",
            "|    exploration_rate | 0.1      |\n",
            "| time/               |          |\n",
            "|    episodes         | 72       |\n",
            "|    fps              | 415      |\n",
            "|    time_elapsed     | 44       |\n",
            "|    total_timesteps  | 18374    |\n",
            "| train/              |          |\n",
            "|    learning_rate    | 0.001    |\n",
            "|    loss             | 1.28     |\n",
            "|    n_updates        | 4568     |\n",
            "----------------------------------\n",
            "----------------------------------\n",
            "| rollout/            |          |\n",
            "|    ep_len_mean      | 294      |\n",
            "|    ep_rew_mean      | -71.8    |\n",
            "|    exploration_rate | 0.1      |\n",
            "| time/               |          |\n",
            "|    episodes         | 76       |\n",
            "|    fps              | 378      |\n",
            "|    time_elapsed     | 59       |\n",
            "|    total_timesteps  | 22374    |\n",
            "| train/              |          |\n",
            "|    learning_rate    | 0.001    |\n",
            "|    loss             | 1.64     |\n",
            "|    n_updates        | 5568     |\n",
            "----------------------------------\n",
            "----------------------------------\n",
            "| rollout/            |          |\n",
            "|    ep_len_mean      | 330      |\n",
            "|    ep_rew_mean      | -70.5    |\n",
            "|    exploration_rate | 0.1      |\n",
            "| time/               |          |\n",
            "|    episodes         | 80       |\n",
            "|    fps              | 357      |\n",
            "|    time_elapsed     | 73       |\n",
            "|    total_timesteps  | 26374    |\n",
            "| train/              |          |\n",
            "|    learning_rate    | 0.001    |\n",
            "|    loss             | 0.566    |\n",
            "|    n_updates        | 6568     |\n",
            "----------------------------------\n",
            "----------------------------------\n",
            "| rollout/            |          |\n",
            "|    ep_len_mean      | 362      |\n",
            "|    ep_rew_mean      | -69.4    |\n",
            "|    exploration_rate | 0.1      |\n",
            "| time/               |          |\n",
            "|    episodes         | 84       |\n",
            "|    fps              | 349      |\n",
            "|    time_elapsed     | 86       |\n",
            "|    total_timesteps  | 30374    |\n",
            "| train/              |          |\n",
            "|    learning_rate    | 0.001    |\n",
            "|    loss             | 0.583    |\n",
            "|    n_updates        | 7568     |\n",
            "----------------------------------\n",
            "----------------------------------\n",
            "| rollout/            |          |\n",
            "|    ep_len_mean      | 391      |\n",
            "|    ep_rew_mean      | -67.7    |\n",
            "|    exploration_rate | 0.1      |\n",
            "| time/               |          |\n",
            "|    episodes         | 88       |\n",
            "|    fps              | 338      |\n",
            "|    time_elapsed     | 101      |\n",
            "|    total_timesteps  | 34374    |\n",
            "| train/              |          |\n",
            "|    learning_rate    | 0.001    |\n",
            "|    loss             | 4.76     |\n",
            "|    n_updates        | 8568     |\n",
            "----------------------------------\n",
            "----------------------------------\n",
            "| rollout/            |          |\n",
            "|    ep_len_mean      | 417      |\n",
            "|    ep_rew_mean      | -65.2    |\n",
            "|    exploration_rate | 0.1      |\n",
            "| time/               |          |\n",
            "|    episodes         | 92       |\n",
            "|    fps              | 335      |\n",
            "|    time_elapsed     | 114      |\n",
            "|    total_timesteps  | 38374    |\n",
            "| train/              |          |\n",
            "|    learning_rate    | 0.001    |\n",
            "|    loss             | 1.71     |\n",
            "|    n_updates        | 9568     |\n",
            "----------------------------------\n",
            "----------------------------------\n",
            "| rollout/            |          |\n",
            "|    ep_len_mean      | 441      |\n",
            "|    ep_rew_mean      | -63.7    |\n",
            "|    exploration_rate | 0.1      |\n",
            "| time/               |          |\n",
            "|    episodes         | 96       |\n",
            "|    fps              | 331      |\n",
            "|    time_elapsed     | 127      |\n",
            "|    total_timesteps  | 42374    |\n",
            "| train/              |          |\n",
            "|    learning_rate    | 0.001    |\n",
            "|    loss             | 0.595    |\n",
            "|    n_updates        | 10568    |\n",
            "----------------------------------\n",
            "----------------------------------\n",
            "| rollout/            |          |\n",
            "|    ep_len_mean      | 464      |\n",
            "|    ep_rew_mean      | -61.9    |\n",
            "|    exploration_rate | 0.1      |\n",
            "| time/               |          |\n",
            "|    episodes         | 100      |\n",
            "|    fps              | 330      |\n",
            "|    time_elapsed     | 140      |\n",
            "|    total_timesteps  | 46374    |\n",
            "| train/              |          |\n",
            "|    learning_rate    | 0.001    |\n",
            "|    loss             | 0.678    |\n",
            "|    n_updates        | 11568    |\n",
            "----------------------------------\n",
            "----------------------------------\n",
            "| rollout/            |          |\n",
            "|    ep_len_mean      | 500      |\n",
            "|    ep_rew_mean      | -58      |\n",
            "|    exploration_rate | 0.1      |\n",
            "| time/               |          |\n",
            "|    episodes         | 104      |\n",
            "|    fps              | 328      |\n",
            "|    time_elapsed     | 153      |\n",
            "|    total_timesteps  | 50374    |\n",
            "| train/              |          |\n",
            "|    learning_rate    | 0.001    |\n",
            "|    loss             | 0.56     |\n",
            "|    n_updates        | 12568    |\n",
            "----------------------------------\n",
            "----------------------------------\n",
            "| rollout/            |          |\n",
            "|    ep_len_mean      | 537      |\n",
            "|    ep_rew_mean      | -52.2    |\n",
            "|    exploration_rate | 0.1      |\n",
            "| time/               |          |\n",
            "|    episodes         | 108      |\n",
            "|    fps              | 326      |\n",
            "|    time_elapsed     | 166      |\n",
            "|    total_timesteps  | 54374    |\n",
            "| train/              |          |\n",
            "|    learning_rate    | 0.001    |\n",
            "|    loss             | 0.945    |\n",
            "|    n_updates        | 13568    |\n",
            "----------------------------------\n",
            "----------------------------------\n",
            "| rollout/            |          |\n",
            "|    ep_len_mean      | 573      |\n",
            "|    ep_rew_mean      | -45.5    |\n",
            "|    exploration_rate | 0.1      |\n",
            "| time/               |          |\n",
            "|    episodes         | 112      |\n",
            "|    fps              | 323      |\n",
            "|    time_elapsed     | 180      |\n",
            "|    total_timesteps  | 58374    |\n",
            "| train/              |          |\n",
            "|    learning_rate    | 0.001    |\n",
            "|    loss             | 0.887    |\n",
            "|    n_updates        | 14568    |\n",
            "----------------------------------\n",
            "----------------------------------\n",
            "| rollout/            |          |\n",
            "|    ep_len_mean      | 609      |\n",
            "|    ep_rew_mean      | -37.3    |\n",
            "|    exploration_rate | 0.1      |\n",
            "| time/               |          |\n",
            "|    episodes         | 116      |\n",
            "|    fps              | 320      |\n",
            "|    time_elapsed     | 194      |\n",
            "|    total_timesteps  | 62374    |\n",
            "| train/              |          |\n",
            "|    learning_rate    | 0.001    |\n",
            "|    loss             | 0.42     |\n",
            "|    n_updates        | 15568    |\n",
            "----------------------------------\n",
            "----------------------------------\n",
            "| rollout/            |          |\n",
            "|    ep_len_mean      | 644      |\n",
            "|    ep_rew_mean      | -32      |\n",
            "|    exploration_rate | 0.1      |\n",
            "| time/               |          |\n",
            "|    episodes         | 120      |\n",
            "|    fps              | 317      |\n",
            "|    time_elapsed     | 209      |\n",
            "|    total_timesteps  | 66374    |\n",
            "| train/              |          |\n",
            "|    learning_rate    | 0.001    |\n",
            "|    loss             | 0.279    |\n",
            "|    n_updates        | 16568    |\n",
            "----------------------------------\n",
            "----------------------------------\n",
            "| rollout/            |          |\n",
            "|    ep_len_mean      | 680      |\n",
            "|    ep_rew_mean      | -30      |\n",
            "|    exploration_rate | 0.1      |\n",
            "| time/               |          |\n",
            "|    episodes         | 124      |\n",
            "|    fps              | 316      |\n",
            "|    time_elapsed     | 222      |\n",
            "|    total_timesteps  | 70374    |\n",
            "| train/              |          |\n",
            "|    learning_rate    | 0.001    |\n",
            "|    loss             | 0.439    |\n",
            "|    n_updates        | 17568    |\n",
            "----------------------------------\n",
            "----------------------------------\n",
            "| rollout/            |          |\n",
            "|    ep_len_mean      | 707      |\n",
            "|    ep_rew_mean      | -26.9    |\n",
            "|    exploration_rate | 0.1      |\n",
            "| time/               |          |\n",
            "|    episodes         | 128      |\n",
            "|    fps              | 313      |\n",
            "|    time_elapsed     | 234      |\n",
            "|    total_timesteps  | 73546    |\n",
            "| train/              |          |\n",
            "|    learning_rate    | 0.001    |\n",
            "|    loss             | 1.1      |\n",
            "|    n_updates        | 18361    |\n",
            "----------------------------------\n",
            "----------------------------------\n",
            "| rollout/            |          |\n",
            "|    ep_len_mean      | 721      |\n",
            "|    ep_rew_mean      | -26.4    |\n",
            "|    exploration_rate | 0.1      |\n",
            "| time/               |          |\n",
            "|    episodes         | 132      |\n",
            "|    fps              | 316      |\n",
            "|    time_elapsed     | 238      |\n",
            "|    total_timesteps  | 75466    |\n",
            "| train/              |          |\n",
            "|    learning_rate    | 0.001    |\n",
            "|    loss             | 0.427    |\n",
            "|    n_updates        | 18841    |\n",
            "----------------------------------\n",
            "----------------------------------\n",
            "| rollout/            |          |\n",
            "|    ep_len_mean      | 746      |\n",
            "|    ep_rew_mean      | -22.6    |\n",
            "|    exploration_rate | 0.1      |\n",
            "| time/               |          |\n",
            "|    episodes         | 136      |\n",
            "|    fps              | 316      |\n",
            "|    time_elapsed     | 247      |\n",
            "|    total_timesteps  | 78341    |\n",
            "| train/              |          |\n",
            "|    learning_rate    | 0.001    |\n",
            "|    loss             | 2.31     |\n",
            "|    n_updates        | 19560    |\n",
            "----------------------------------\n",
            "----------------------------------\n",
            "| rollout/            |          |\n",
            "|    ep_len_mean      | 780      |\n",
            "|    ep_rew_mean      | -22.7    |\n",
            "|    exploration_rate | 0.1      |\n",
            "| time/               |          |\n",
            "|    episodes         | 140      |\n",
            "|    fps              | 317      |\n",
            "|    time_elapsed     | 259      |\n",
            "|    total_timesteps  | 82341    |\n",
            "| train/              |          |\n",
            "|    learning_rate    | 0.001    |\n",
            "|    loss             | 0.631    |\n",
            "|    n_updates        | 20560    |\n",
            "----------------------------------\n",
            "----------------------------------\n",
            "| rollout/            |          |\n",
            "|    ep_len_mean      | 796      |\n",
            "|    ep_rew_mean      | -26.1    |\n",
            "|    exploration_rate | 0.1      |\n",
            "| time/               |          |\n",
            "|    episodes         | 144      |\n",
            "|    fps              | 318      |\n",
            "|    time_elapsed     | 264      |\n",
            "|    total_timesteps  | 84362    |\n",
            "| train/              |          |\n",
            "|    learning_rate    | 0.001    |\n",
            "|    loss             | 0.799    |\n",
            "|    n_updates        | 21065    |\n",
            "----------------------------------\n",
            "----------------------------------\n",
            "| rollout/            |          |\n",
            "|    ep_len_mean      | 819      |\n",
            "|    ep_rew_mean      | -23.5    |\n",
            "|    exploration_rate | 0.1      |\n",
            "| time/               |          |\n",
            "|    episodes         | 148      |\n",
            "|    fps              | 319      |\n",
            "|    time_elapsed     | 273      |\n",
            "|    total_timesteps  | 87332    |\n",
            "| train/              |          |\n",
            "|    learning_rate    | 0.001    |\n",
            "|    loss             | 0.554    |\n",
            "|    n_updates        | 21807    |\n",
            "----------------------------------\n",
            "----------------------------------\n",
            "| rollout/            |          |\n",
            "|    ep_len_mean      | 821      |\n",
            "|    ep_rew_mean      | -22.5    |\n",
            "|    exploration_rate | 0.1      |\n",
            "| time/               |          |\n",
            "|    episodes         | 152      |\n",
            "|    fps              | 321      |\n",
            "|    time_elapsed     | 275      |\n",
            "|    total_timesteps  | 88579    |\n",
            "| train/              |          |\n",
            "|    learning_rate    | 0.001    |\n",
            "|    loss             | 0.363    |\n",
            "|    n_updates        | 22119    |\n",
            "----------------------------------\n",
            "----------------------------------\n",
            "| rollout/            |          |\n",
            "|    ep_len_mean      | 814      |\n",
            "|    ep_rew_mean      | -19      |\n",
            "|    exploration_rate | 0.1      |\n",
            "| time/               |          |\n",
            "|    episodes         | 156      |\n",
            "|    fps              | 322      |\n",
            "|    time_elapsed     | 284      |\n",
            "|    total_timesteps  | 91774    |\n",
            "| train/              |          |\n",
            "|    learning_rate    | 0.001    |\n",
            "|    loss             | 0.517    |\n",
            "|    n_updates        | 22918    |\n",
            "----------------------------------\n",
            "----------------------------------\n",
            "| rollout/            |          |\n",
            "|    ep_len_mean      | 828      |\n",
            "|    ep_rew_mean      | -19.3    |\n",
            "|    exploration_rate | 0.1      |\n",
            "| time/               |          |\n",
            "|    episodes         | 160      |\n",
            "|    fps              | 321      |\n",
            "|    time_elapsed     | 296      |\n",
            "|    total_timesteps  | 95340    |\n",
            "| train/              |          |\n",
            "|    learning_rate    | 0.001    |\n",
            "|    loss             | 0.361    |\n",
            "|    n_updates        | 23809    |\n",
            "----------------------------------\n",
            "----------------------------------\n",
            "| rollout/            |          |\n",
            "|    ep_len_mean      | 822      |\n",
            "|    ep_rew_mean      | -22.4    |\n",
            "|    exploration_rate | 0.1      |\n",
            "| time/               |          |\n",
            "|    episodes         | 164      |\n",
            "|    fps              | 322      |\n",
            "|    time_elapsed     | 298      |\n",
            "|    total_timesteps  | 96277    |\n",
            "| train/              |          |\n",
            "|    learning_rate    | 0.001    |\n",
            "|    loss             | 1.45     |\n",
            "|    n_updates        | 24044    |\n",
            "----------------------------------\n",
            "----------------------------------\n",
            "| rollout/            |          |\n",
            "|    ep_len_mean      | 833      |\n",
            "|    ep_rew_mean      | -23.2    |\n",
            "|    exploration_rate | 0.1      |\n",
            "| time/               |          |\n",
            "|    episodes         | 168      |\n",
            "|    fps              | 323      |\n",
            "|    time_elapsed     | 303      |\n",
            "|    total_timesteps  | 98365    |\n",
            "| train/              |          |\n",
            "|    learning_rate    | 0.001    |\n",
            "|    loss             | 0.39     |\n",
            "|    n_updates        | 24566    |\n",
            "----------------------------------\n"
          ]
        }
      ],
      "source": [
        "# Train the agent\n",
        "model.learn(total_timesteps=int(1e5))\n",
        "# Save the agent\n",
        "model.save(\"dqn_lunar\")\n",
        "\n",
        "#del model  # delete trained model to demonstrate loading"
      ]
    },
    {
      "cell_type": "markdown",
      "metadata": {
        "id": "T31dZJYNrJwF"
      },
      "source": [
        "## Load the trained agent"
      ]
    },
    {
      "cell_type": "code",
      "execution_count": null,
      "metadata": {
        "id": "K1ExgtyZrIA6"
      },
      "outputs": [],
      "source": [
        "#model = DQN.load(\"dqn_lunar\")"
      ]
    },
    {
      "cell_type": "code",
      "execution_count": null,
      "metadata": {
        "colab": {
          "base_uri": "https://localhost:8080/"
        },
        "id": "ygl_gVmV_QP7",
        "outputId": "d8834d37-f6af-42f4-8659-4a8290810f6d"
      },
      "outputs": [
        {
          "output_type": "stream",
          "name": "stdout",
          "text": [
            "mean_reward=6.42 +/- 66.04543452061502\n"
          ]
        }
      ],
      "source": [
        "# Evaluate the trained agent\n",
        "mean_reward, std_reward = evaluate_policy(model, eval_env, n_eval_episodes=100, deterministic=True)\n",
        "\n",
        "print(f\"mean_reward={mean_reward:.2f} +/- {std_reward}\")"
      ]
    },
    {
      "cell_type": "markdown",
      "metadata": {
        "id": "xVm9QPNVwKXN"
      },
      "source": [
        "### Prepare video recording"
      ]
    },
    {
      "cell_type": "code",
      "execution_count": null,
      "metadata": {
        "id": "MPyfQxD5z26J"
      },
      "outputs": [],
      "source": [
        "# Set up fake display; otherwise rendering will fail\n",
        "import os\n",
        "os.system(\"Xvfb :1 -screen 0 1024x768x24 &\")\n",
        "os.environ['DISPLAY'] = ':1'"
      ]
    },
    {
      "cell_type": "code",
      "execution_count": null,
      "metadata": {
        "id": "SLzXxO8VMD6N"
      },
      "outputs": [],
      "source": [
        "import base64\n",
        "from pathlib import Path\n",
        "\n",
        "from IPython import display as ipythondisplay\n",
        "\n",
        "\n",
        "def show_videos(video_path=\"\", prefix=\"\"):\n",
        "    \"\"\"\n",
        "    Taken from https://github.com/eleurent/highway-env\n",
        "\n",
        "    :param video_path: (str) Path to the folder containing videos\n",
        "    :param prefix: (str) Filter the video, showing only the only starting with this prefix\n",
        "    \"\"\"\n",
        "    html = []\n",
        "    for mp4 in Path(video_path).glob(\"{}*.mp4\".format(prefix)):\n",
        "        video_b64 = base64.b64encode(mp4.read_bytes())\n",
        "        html.append(\n",
        "            \"\"\"<video alt=\"{}\" autoplay\n",
        "                    loop controls style=\"height: 400px;\">\n",
        "                    <source src=\"data:video/mp4;base64,{}\" type=\"video/mp4\" />\n",
        "                </video>\"\"\".format(\n",
        "                mp4, video_b64.decode(\"ascii\")\n",
        "            )\n",
        "        )\n",
        "    ipythondisplay.display(ipythondisplay.HTML(data=\"<br>\".join(html)))"
      ]
    },
    {
      "cell_type": "markdown",
      "metadata": {
        "id": "LTRNUfulOGaF"
      },
      "source": [
        "We will record a video using the [VecVideoRecorder](https://stable-baselines.readthedocs.io/en/master/guide/vec_envs.html#vecvideorecorder) wrapper, you will learn about those wrapper in the next notebook."
      ]
    },
    {
      "cell_type": "code",
      "execution_count": null,
      "metadata": {
        "id": "Trag9dQpOIhx"
      },
      "outputs": [],
      "source": [
        "from stable_baselines3.common.vec_env import VecVideoRecorder, DummyVecEnv\n",
        "\n",
        "\n",
        "def record_video(env_id, model, video_length=500, prefix=\"\", video_folder=\"videos/\"):\n",
        "    \"\"\"\n",
        "    :param env_id: (str)\n",
        "    :param model: (RL model)\n",
        "    :param video_length: (int)\n",
        "    :param prefix: (str)\n",
        "    :param video_folder: (str)\n",
        "    \"\"\"\n",
        "    eval_env = DummyVecEnv([lambda: gym.make(\"LunarLander-v2\", render_mode=\"rgb_array\")])\n",
        "    # Start the video at step=0 and record 500 steps\n",
        "    eval_env = VecVideoRecorder(\n",
        "        eval_env,\n",
        "        video_folder=video_folder,\n",
        "        record_video_trigger=lambda step: step == 0,\n",
        "        video_length=video_length,\n",
        "        name_prefix=prefix,\n",
        "    )\n",
        "\n",
        "    obs = eval_env.reset()\n",
        "    for _ in range(video_length):\n",
        "        action, _ = model.predict(obs)\n",
        "        obs, _, _, _ = eval_env.step(action)\n",
        "\n",
        "    # Close the video recorder\n",
        "    eval_env.close()"
      ]
    },
    {
      "cell_type": "markdown",
      "metadata": {
        "id": "KOObbeu5MMlR"
      },
      "source": [
        "### Visualize trained agent\n",
        "\n"
      ]
    },
    {
      "cell_type": "code",
      "execution_count": null,
      "metadata": {
        "colab": {
          "base_uri": "https://localhost:8080/"
        },
        "id": "iATu7AiyMQW2",
        "outputId": "cc391855-93b8-4964-fb5e-c8b0ddc49d98"
      },
      "outputs": [
        {
          "output_type": "stream",
          "name": "stdout",
          "text": [
            "Saving video to /content/videos/ppo-lunarlander-step-0-to-step-1000.mp4\n",
            "Moviepy - Building video /content/videos/ppo-lunarlander-step-0-to-step-1000.mp4.\n",
            "Moviepy - Writing video /content/videos/ppo-lunarlander-step-0-to-step-1000.mp4\n",
            "\n"
          ]
        },
        {
          "output_type": "stream",
          "name": "stderr",
          "text": []
        },
        {
          "output_type": "stream",
          "name": "stdout",
          "text": [
            "Moviepy - Done !\n",
            "Moviepy - video ready /content/videos/ppo-lunarlander-step-0-to-step-1000.mp4\n"
          ]
        }
      ],
      "source": [
        "record_video(\"LunarLander-v2\", model, video_length=1000, prefix=\"ppo-lunarlander\")"
      ]
    },
    {
      "cell_type": "code",
      "execution_count": null,
      "metadata": {
        "colab": {
          "base_uri": "https://localhost:8080/",
          "height": 477
        },
        "id": "-n4i-fW3NojZ",
        "outputId": "43646a00-2f40-440e-b446-485e2ec83340"
      },
      "outputs": [
        {
          "output_type": "stream",
          "name": "stderr",
          "text": [
            "/usr/local/lib/python3.10/dist-packages/ipykernel/ipkernel.py:283: DeprecationWarning: `should_run_async` will not call `transform_cell` automatically in the future. Please pass the result to `transformed_cell` argument and any exception that happen during thetransform in `preprocessing_exc_tuple` in IPython 7.17 and above.\n",
            "  and should_run_async(code)\n"
          ]
        },
        {
          "output_type": "display_data",
          "data": {
            "text/plain": [
              "<IPython.core.display.HTML object>"
            ],
            "text/html": [
              "<video alt=\"videos/ppo-lunarlander-step-0-to-step-1000.mp4\" autoplay\n",
              "                    loop controls style=\"height: 400px;\">\n",
              "                    <source src=\"data:video/mp4;base64,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\" type=\"video/mp4\" />\n",
              "                </video>"
            ]
          },
          "metadata": {}
        }
      ],
      "source": [
        "show_videos(\"videos\", prefix=\"ppo\")"
      ]
    },
    {
      "cell_type": "code",
      "execution_count": null,
      "metadata": {
        "id": "vl4qduZAkN1t"
      },
      "outputs": [],
      "source": []
    }
  ],
  "metadata": {
    "colab": {
      "provenance": [],
      "include_colab_link": true
    },
    "kernelspec": {
      "display_name": "Python 3 (ipykernel)",
      "language": "python",
      "name": "python3"
    },
    "language_info": {
      "codemirror_mode": {
        "name": "ipython",
        "version": 3
      },
      "file_extension": ".py",
      "mimetype": "text/x-python",
      "name": "python",
      "nbconvert_exporter": "python",
      "pygments_lexer": "ipython3",
      "version": "3.10.6"
    },
    "vscode": {
      "interpreter": {
        "hash": "3201c96db5836b171d01fee72ea1be894646622d4b41771abf25c98b548a611d"
      }
    }
  },
  "nbformat": 4,
  "nbformat_minor": 0
}